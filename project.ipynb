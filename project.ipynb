{
 "cells": [
  {
   "cell_type": "code",
   "execution_count": 1,
   "id": "0f74a4d1-fa0e-4509-933b-fc24d033a95b",
   "metadata": {
    "tags": []
   },
   "outputs": [],
   "source": [
    "# !pip install qiskit-aqua\n",
    "# !pip install 'qiskit-aqua[cvx]'"
   ]
  },
  {
   "cell_type": "code",
   "execution_count": 2,
   "id": "e73d3279-59cd-4d84-b8fa-81818a72fcac",
   "metadata": {},
   "outputs": [],
   "source": [
    "from qiskit.circuit.library.data_preparation.pauli_feature_map import PauliFeatureMap\n",
    "from qiskit import Aer, execute, QuantumRegister, ClassicalRegister, QuantumCircuit\n",
    "from qiskit.aqua.components import multiclass_extensions\n",
    "from qiskit.aqua.algorithms import QSVM\n",
    "from qiskit.aqua.utils.dataset_helper import get_feature_dimension\n",
    "from qiskit.aqua import QuantumInstance, aqua_globals\n",
    "\n",
    "from qiskit.ml.datasets import digits\n",
    "import numpy as np"
   ]
  },
  {
   "cell_type": "code",
   "execution_count": 3,
   "id": "73f75fb0-72dd-4bbf-8413-6687d66cf860",
   "metadata": {},
   "outputs": [
    {
     "data": {
      "image/png": "[encoded data removed]",
      "text/plain": [
       "<Figure size 432x288 with 1 Axes>"
      ]
     },
     "metadata": {
      "needs_background": "light"
     },
     "output_type": "display_data"
    }
   ],
   "source": [
    "# Load dataset\n",
    "n = 2  # dimension of each data point\n",
    "sample_train, training_input, test_input, class_labels = digits(\n",
    "    training_size=10,\n",
    "    test_size=5, n=n, plot_data=True\n",
    ")\n",
    "\n",
    "datapoints = np.concatenate([test_input[k] for k in test_input])"
   ]
  },
  {
   "cell_type": "code",
   "execution_count": 4,
   "id": "ff5d2a18-47a7-454e-ac65-1577abe7f722",
   "metadata": {},
   "outputs": [],
   "source": [
    "#applying QSVM on simulator\n",
    "seed = 21\n",
    "num_qubits = 2\n",
    "feature_map = PauliFeatureMap(feature_dimension=get_feature_dimension(training_input), reps=1, entanglement='linear', insert_barriers=True)"
   ]
  },
  {
   "cell_type": "code",
   "execution_count": 5,
   "id": "09639b37-4b3a-4cc7-9f56-ff3d42b188ee",
   "metadata": {},
   "outputs": [
    {
     "data": {
      "text/html": [
       "<pre style=\"word-wrap: normal;white-space: pre;background: #fff0;line-height: 1.1;font-family: &quot;Courier New&quot;,Courier,monospace\">     ┌───┐ ░ ┌─────────────┐                                          \n",
       "q_0: ┤ H ├─░─┤ P(2.0*x[0]) ├──■────────────────────────────────────■──\n",
       "     ├───┤ ░ ├─────────────┤┌─┴─┐┌──────────────────────────────┐┌─┴─┐\n",
       "q_1: ┤ H ├─░─┤ P(2.0*x[1]) ├┤ X ├┤ P(2.0*(π - x[0])*(π - x[1])) ├┤ X ├\n",
       "     └───┘ ░ └─────────────┘└───┘└──────────────────────────────┘└───┘</pre>"
      ],
      "text/plain": [
       "     ┌───┐ ░ ┌─────────────┐                                          \n",
       "q_0: ┤ H ├─░─┤ P(2.0*x[0]) ├──■────────────────────────────────────■──\n",
       "     ├───┤ ░ ├─────────────┤┌─┴─┐┌──────────────────────────────┐┌─┴─┐\n",
       "q_1: ┤ H ├─░─┤ P(2.0*x[1]) ├┤ X ├┤ P(2.0*(π - x[0])*(π - x[1])) ├┤ X ├\n",
       "     └───┘ ░ └─────────────┘└───┘└──────────────────────────────┘└───┘"
      ]
     },
     "execution_count": 5,
     "metadata": {},
     "output_type": "execute_result"
    }
   ],
   "source": [
    "feature_map.decompose().draw(fold=-1)"
   ]
  },
  {
   "cell_type": "code",
   "execution_count": 6,
   "id": "dc698522",
   "metadata": {},
   "outputs": [],
   "source": [
    "from qiskit.providers.aer import AerError\n",
    "\n",
    "# Initialize a GPU backend\n",
    "# Note that the cloud instance for tutorials does not have a GPU\n",
    "# so this will raise an exception.\n",
    "try:\n",
    "    simulator_gpu = Aer.get_backend('aer_simulator')\n",
    "    simulator_gpu.set_options(device='GPU')\n",
    "except AerError as e:\n",
    "    print(e)"
   ]
  },
  {
   "cell_type": "code",
   "execution_count": 7,
   "id": "213ece3c-11be-4083-b8d3-8ffa11592bcd",
   "metadata": {},
   "outputs": [],
   "source": [
    "qsvm = QSVM(feature_map, training_input, test_input, datapoints, multiclass_extension=multiclass_extensions.AllPairs())\n",
    "quantum_instance = QuantumInstance(simulator_gpu, shots=1, seed_simulator=seed, seed_transpiler=seed, skip_qobj_validation=True)"
   ]
  },
  {
   "cell_type": "code",
   "execution_count": 8,
   "id": "e50044e1-1690-4fec-8e53-a1c2794e10ae",
   "metadata": {},
   "outputs": [],
   "source": [
    "result = qsvm.run(quantum_instance)"
   ]
  },
  {
   "cell_type": "code",
   "execution_count": 9,
   "id": "5d79c69b-c085-4bcc-a89b-eec47923ea7f",
   "metadata": {},
   "outputs": [
    {
     "name": "stdout",
     "output_type": "stream",
     "text": [
      "'testing_accuracy' : 0.24\n",
      "'test_success_ratio' : 0.24\n",
      "'predicted_labels' : [6 9 0 8 2 3 6 1 3 0 1 4 9 3 2 7 5 9 8 8 6 1 7 4 4 8 0 8 1 5 6 8 6 5 6 7 3\n",
      " 2 9 4 8 5 5 8 3 5 5 3 0 3]\n",
      "'predicted_classes' : ['G', 'J', 'A', 'I', 'C', 'D', 'G', 'B', 'D', 'A', 'B', 'E', 'J', 'D', 'C', 'H', 'F', 'J', 'I', 'I', 'G', 'B', 'H', 'E', 'E', 'I', 'A', 'I', 'B', 'F', 'G', 'I', 'G', 'F', 'G', 'H', 'D', 'C', 'J', 'E', 'I', 'F', 'F', 'I', 'D', 'F', 'F', 'D', 'A', 'D']\n"
     ]
    }
   ],
   "source": [
    "for k,v in result.items():\n",
    "    print(\"'{}' : {}\".format(k, v))"
   ]
  },
  {
   "cell_type": "code",
   "execution_count": 17,
   "id": "d1bb65df",
   "metadata": {},
   "outputs": [],
   "source": [
    "y_test = qsvm.predict(datapoints, quantum_instance)"
   ]
  },
  {
   "cell_type": "code",
   "execution_count": 65,
   "id": "51aa4250",
   "metadata": {},
   "outputs": [],
   "source": [
    "gt_labels = [x//5 for x in range(50)]"
   ]
  },
  {
   "cell_type": "code",
   "execution_count": 24,
   "id": "258026b2",
   "metadata": {},
   "outputs": [
    {
     "data": {
      "image/png": "[encoded data removed]",
      "text/plain": [
       "<Figure size 432x288 with 1 Axes>"
      ]
     },
     "metadata": {
      "needs_background": "light"
     },
     "output_type": "display_data"
    }
   ],
   "source": [
    "import matplotlib.pyplot as plt\n",
    "\n",
    "plt.scatter(datapoints[:, 0], datapoints[:,1], c=y_test)\n",
    "plt.show()\n"
   ]
  },
  {
   "cell_type": "code",
   "execution_count": 60,
   "id": "4e16bf29",
   "metadata": {},
   "outputs": [
    {
     "data": {
      "image/png": "[encoded data removed]",
      "text/plain": [
       "<Figure size 432x288 with 1 Axes>"
      ]
     },
     "metadata": {
      "needs_background": "light"
     },
     "output_type": "display_data"
    }
   ],
   "source": [
    "plt.scatter(datapoints[:, 0], datapoints[:,1], c=gt_labels)\n",
    "plt.show()"
   ]
  },
  {
   "cell_type": "code",
   "execution_count": 49,
   "id": "90e2f9b2",
   "metadata": {},
   "outputs": [
    {
     "data": {
      "text/plain": [
       "array([6, 9, 0, 8, 2, 3, 6, 1, 3, 0, 1, 4, 9, 3, 2, 7, 5, 9, 8, 8, 6, 1,\n",
       "       7, 4, 4, 8, 0, 8, 1, 5, 6, 8, 6, 5, 6, 7, 3, 2, 9, 4, 8, 5, 5, 8,\n",
       "       3, 5, 5, 3, 0, 3])"
      ]
     },
     "execution_count": 49,
     "metadata": {},
     "output_type": "execute_result"
    }
   ],
   "source": [
    "y_test"
   ]
  },
  {
   "cell_type": "code",
   "execution_count": 62,
   "id": "a1eeedc1",
   "metadata": {},
   "outputs": [
    {
     "name": "stdout",
     "output_type": "stream",
     "text": [
      "Prediction: 0, Actual: 0\n",
      "Prediction: 1, Actual: 1\n",
      "Prediction: 2, Actual: 2\n",
      "Prediction: 4, Actual: 4\n",
      "Prediction: 4, Actual: 4\n",
      "Prediction: 5, Actual: 5\n",
      "Prediction: 6, Actual: 6\n",
      "Prediction: 6, Actual: 6\n",
      "Prediction: 6, Actual: 6\n",
      "Prediction: 7, Actual: 7\n",
      "Prediction: 8, Actual: 8\n",
      "Prediction: 8, Actual: 8\n"
     ]
    }
   ],
   "source": [
    "for i in range(len(y_test)):\n",
    "\tif(y_test[i] == gt_labels[i]):\n",
    "\t\tprint(f'Prediction: {y_test[i]}, Actual: {gt_labels[i]}')"
   ]
  }
 ],
 "metadata": {
  "kernelspec": {
   "display_name": "Python 3.9.12 ('qc')",
   "language": "python",
   "name": "python3"
  },
  "language_info": {
   "codemirror_mode": {
    "name": "ipython",
    "version": 3
   },
   "file_extension": ".py",
   "mimetype": "text/x-python",
   "name": "python",
   "nbconvert_exporter": "python",
   "pygments_lexer": "ipython3",
   "version": "3.9.12"
  },
  "vscode": {
   "interpreter": {
    "hash": "a11d4ce051e3a9f343f6e1f24a9ffd933e48a0323c10f426e210f81125511e59"
   }
  }
 },
 "nbformat": 4,
 "nbformat_minor": 5
}
